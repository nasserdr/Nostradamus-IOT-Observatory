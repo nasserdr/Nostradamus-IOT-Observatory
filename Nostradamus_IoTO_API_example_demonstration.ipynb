{
  "cells": [
    {
      "cell_type": "code",
      "execution_count": null,
      "metadata": {
        "id": "Hy2yDJmfG_DU"
      },
      "outputs": [],
      "source": [
        "import requests\n",
        "import json\n",
        "from datetime import datetime, timedelta\n",
        "import random\n",
        "\n",
        "# Configuration\n",
        "\n",
        "# Read the keys from agroscope_keys.json\n",
        "with open('configs.json', 'r') as f:\n",
        "    configs = json.load(f)\n",
        "\n",
        "PROJECT_ID = configs['PROJECT_ID']\n",
        "BASE_URL = configs['BASE_URL']\n",
        "MASTER_KEY = configs['master']\n",
        "WRITE_KEY = configs['read']\n",
        "READ_KEY = configs['write']"
      ]
    },
    {
      "cell_type": "code",
      "execution_count": null,
      "metadata": {},
      "outputs": [],
      "source": [
        "BASE_URL"
      ]
    },
    {
      "cell_type": "code",
      "execution_count": null,
      "metadata": {},
      "outputs": [],
      "source": [
        "print(\"🌱 Nostradamus IoTO API - Soil Data Example\")\n",
        "\n",
        "## Step 1: Create Soil Collection\n",
        "\n",
        "def create_soil_collection(project_id, master_key):\n",
        "    \"\"\"Create soil data collection\"\"\"\n",
        "    url = f\"{BASE_URL}/projects/{project_id}/collections\"\n",
        "    headers = {\"X-API-Key\": master_key}\n",
        "\n",
        "    collection_data = {\n",
        "        \"name\": f\"sensors\",\n",
        "        \"description\": \"Soil monitoring data\",\n",
        "        \"tags\": [\"soil\", \"agriculture\", \"sensors\"],\n",
        "        \"collection_schema\": {\n",
        "            \"key\": \"SOIL_001\",                    # Identifying key\n",
        "            \"timestamp\": \"2025-06-17T10:30:00Z\",        # Timestamp\n",
        "            \"soil_moisture\": 45.2,                      # Soil moisture %\n",
        "            \"ph_level\": 6.8,                           # pH level\n",
        "            \"temperature\": 18.5,                        # Temperature °C\n",
        "            \"nitrogen\": 45.0,                          # Nitrogen ppm\n",
        "            \"phosphorus\": 12.5,                        # Phosphorus ppm\n",
        "            \"potassium\": 180.0,                        # Potassium ppm\n",
        "            \"battery_level\": 87.3                      # Battery %\n",
        "        }\n",
        "    }\n",
        "\n",
        "    response = requests.post(url, json=collection_data, headers=headers)\n",
        "    if response.status_code == 200:\n",
        "        print(\"✅ Collection created successfully!\")\n",
        "        return response.json()\n",
        "    else:\n",
        "        print(f\"Failed to create collection: {response.text}\")\n",
        "        return None\n",
        "\n",
        "collection_result = create_soil_collection(PROJECT_ID, MASTER_KEY)\n",
        "print(collection_result)"
      ]
    },
    {
      "cell_type": "code",
      "execution_count": null,
      "metadata": {
        "colab": {
          "base_uri": "https://localhost:8080/"
        },
        "id": "GSoqX6RZHTU8",
        "outputId": "64022024-1840-4f20-89e0-536bcccf310d"
      },
      "outputs": [],
      "source": [
        "collection_id='Your_collection_id'\n",
        "def generate_soil_data(num_sensors=3, num_readings=24):\n",
        "    \"\"\"Generate soil sensor data\"\"\"\n",
        "    data = []\n",
        "    base_time = datetime.now() - timedelta(hours=24)\n",
        "\n",
        "    for sensor_num in range(1, num_sensors + 1):\n",
        "        sensor_id = f\"SOIL_{sensor_num:03d}\"\n",
        "\n",
        "        for hour in range(num_readings):\n",
        "            timestamp = base_time + timedelta(hours=hour)\n",
        "\n",
        "            reading = {\n",
        "                \"key\": sensor_id,\n",
        "                \"timestamp\": timestamp.strftime(\"%Y-%m-%dT%H:%M:%S\"),\n",
        "                \"soil_moisture\": round(random.uniform(30, 60), 1),\n",
        "                \"ph_level\": round(random.uniform(6.0, 7.5), 1),\n",
        "                \"temperature\": round(random.uniform(15, 25), 1),\n",
        "                \"nitrogen\": round(random.uniform(30, 60), 1),\n",
        "                \"phosphorus\": round(random.uniform(8, 20), 1),\n",
        "                \"potassium\": round(random.uniform(120, 220), 1),\n",
        "                \"battery_level\": round(random.uniform(70, 100), 1)\n",
        "            }\n",
        "            data.append(reading)\n",
        "\n",
        "    return data\n",
        "\n",
        "def send_data(project_id, collection_id, write_key, data):\n",
        "    \"\"\"Send data to collection\"\"\"\n",
        "    url = f\"{BASE_URL}/projects/{project_id}/collections/{collection_id}/send_data\"\n",
        "    headers = {\"X-API-Key\": write_key}\n",
        "    response = requests.post(url, json=data, headers=headers)\n",
        "    if response.status_code == 200:\n",
        "        print(f\"✅ Sent {len(data)} records\")\n",
        "        return True\n",
        "    else:\n",
        "        print(f\"Failed to send data: {response.text}\")\n",
        "        return False\n",
        "\n",
        "# Generate and send data\n",
        "soil_data = generate_soil_data(num_sensors=3, num_readings=24)\n",
        "send_data(PROJECT_ID, collection_id, WRITE_KEY, soil_data)"
      ]
    },
    {
      "cell_type": "code",
      "execution_count": null,
      "metadata": {
        "colab": {
          "base_uri": "https://localhost:8080/"
        },
        "id": "PRmDIFBXHkov",
        "outputId": "2eb77eb8-b533-441d-97e1-47ef4ca5b0a5"
      },
      "outputs": [],
      "source": [
        "def get_data(project_id, collection_id, read_key, filters=None):\n",
        "    \"\"\"Get data from collection with filters\"\"\"\n",
        "    url = f\"{BASE_URL}/projects/{project_id}/collections/{collection_id}/get_data\"\n",
        "    headers = {\"X-API-Key\": read_key}\n",
        "\n",
        "    params = {}\n",
        "    if filters:\n",
        "        params[\"filters\"] = json.dumps(filters)\n",
        "\n",
        "    response = requests.get(url, headers=headers, params=params)\n",
        "    if response.status_code == 200:\n",
        "        data = response.json()\n",
        "        print(f\"✅ Retrieved {len(data)} records\")\n",
        "        return data\n",
        "    else:\n",
        "        print(f\"Failed to get data: {response.text}\")\n",
        "        return []\n",
        "\n",
        "# Example 1: Get all data\n",
        "print(\"\\n📥 Getting all data...\")\n",
        "all_data = get_data(PROJECT_ID, collection_id, READ_KEY)\n",
        "print(all_data)"
      ]
    },
    {
      "cell_type": "code",
      "execution_count": null,
      "metadata": {
        "colab": {
          "base_uri": "https://localhost:8080/"
        },
        "id": "H5IcSbVSH7_S",
        "outputId": "1e650903-8c2e-4d10-cf4d-a34c0cc697c6"
      },
      "outputs": [],
      "source": [
        "# Example 2: Get data for specific sensor\n",
        "print(\"\\n🔍 Filter by sensor SOIL_001...\")\n",
        "sensor_filter = [\n",
        "    {\n",
        "        \"property_name\": \"key\",\n",
        "        \"operator\": \"eq\",\n",
        "        \"property_value\": \"SOIL_001\"\n",
        "    }\n",
        "]\n",
        "sensor_data = get_data(PROJECT_ID, collection_id, READ_KEY, sensor_filter)\n",
        "\n",
        "# Example 3: Get high moisture readings\n",
        "print(\"\\n💧 Filter for high moisture (>45%)...\")\n",
        "moisture_filter = [\n",
        "    {\n",
        "        \"property_name\": \"soil_moisture\",\n",
        "        \"operator\": \"gt\",\n",
        "        \"property_value\": 45\n",
        "    }\n",
        "]\n",
        "high_moisture = get_data(PROJECT_ID, collection_id, READ_KEY, moisture_filter)\n",
        "# Example 4: Complex filter - low moisture AND low battery\n",
        "print(\"\\n⚠️ Filter for low moisture AND low battery...\")\n",
        "complex_filter = [\n",
        "    {\n",
        "        \"property_name\": \"soil_moisture\",\n",
        "        \"operator\": \"lt\",\n",
        "        \"property_value\": 35\n",
        "    },\n",
        "    {\n",
        "        \"property_name\": \"battery_level\",\n",
        "        \"operator\": \"lt\",\n",
        "        \"property_value\": 80\n",
        "    }\n",
        "]\n",
        "alert_data = get_data(PROJECT_ID, collection_id, READ_KEY, complex_filter)\n",
        "print(alert_data)"
      ]
    },
    {
      "cell_type": "code",
      "execution_count": null,
      "metadata": {
        "colab": {
          "base_uri": "https://localhost:8080/"
        },
        "id": "C098OkZqH-j4",
        "outputId": "17256f33-e996-4037-f824-4e692a58bb4a"
      },
      "outputs": [],
      "source": [
        "## Step 4: Get Statistics\n",
        "\n",
        "def get_statistics(project_id, collection_id, read_key, attribute, stat=\"avg\", filters=None):\n",
        "    \"\"\"Get statistics for attribute\"\"\"\n",
        "    url = f\"{BASE_URL}/projects/{project_id}/collections/{collection_id}/statistics\"\n",
        "    headers = {\"X-API-Key\": read_key}\n",
        "\n",
        "    params = {\n",
        "        \"attribute\": attribute,\n",
        "        \"stat\": stat,\n",
        "        \"interval\": \"every_24_hours\"\n",
        "    }\n",
        "\n",
        "    if filters:\n",
        "        params[\"filters\"] = json.dumps(filters)\n",
        "\n",
        "    response = requests.get(url, headers=headers, params=params)\n",
        "    if response.status_code == 200:\n",
        "        stats = response.json()\n",
        "        print(f\"✅ {stat} for {attribute}: {stats}\")\n",
        "        return stats\n",
        "    else:\n",
        "        print(f\"Failed to get statistics: {response.text}\")\n",
        "        return {}\n",
        "\n",
        "# Calculate statistics\n",
        "print(\"\\n📈 Getting statistics...\")\n",
        "\n",
        "# Average moisture\n",
        "get_statistics(PROJECT_ID, collection_id, READ_KEY, \"soil_moisture\", \"avg\")\n",
        "\n",
        "# Maximum temperature\n",
        "get_statistics(PROJECT_ID, collection_id, READ_KEY, \"temperature\", \"max\")\n",
        "\n",
        "# Minimum battery level\n",
        "get_statistics(PROJECT_ID, collection_id, READ_KEY, \"battery_level\", \"min\")"
      ]
    }
  ],
  "metadata": {
    "colab": {
      "provenance": []
    },
    "kernelspec": {
      "display_name": "Python 3",
      "name": "python3"
    },
    "language_info": {
      "codemirror_mode": {
        "name": "ipython",
        "version": 3
      },
      "file_extension": ".py",
      "mimetype": "text/x-python",
      "name": "python",
      "nbconvert_exporter": "python",
      "pygments_lexer": "ipython3",
      "version": "3.11.4"
    }
  },
  "nbformat": 4,
  "nbformat_minor": 0
}
