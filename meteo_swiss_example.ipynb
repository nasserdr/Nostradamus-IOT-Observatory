{
 "cells": [
  {
   "cell_type": "markdown",
   "metadata": {},
   "source": [
    "# Introduction\n",
    "### This code is a dummy code that I used to get familiar with downloading meteoswiss data for Tanikon Weather station\n",
    "\n",
    "- To know the file that should be downloaded daily, one has to go to this link, click on the needed data and then get a link from the end of the wizzard.\n",
    "https://data.geo.admin.ch/ch.meteoschweiz.ogd-smn/tae/ogd-smn_tae_t_now.csv\n",
    "\n",
    "- The downloaded dataset contains columns with strange names, the interpretation of these names can be found here:\n",
    "https://github.com/MeteoSwiss/opendata/blob/main/docs/a-data-groundbased/a1-automatic-weather-stations.md\n",
    "\n",
    "Namely, these names are coded as follows:\n",
    "The update interval for this file is around 10 minutes.\n",
    "\n",
    "Time in UTC: 00:40 UTC = 02:40 local (CH) summer time, 01:40 winter time\n",
    "\n",
    "Main parameters are:\n",
    "| Identifier | Description |\n",
    "|:----------:|:------------|\n",
    "| `tre200s0` | Air temperature 2 m above ground; current value | \n",
    "| `rre150z0` | Precipitation; ten minutes total |\n",
    "| `sre000z0` | Sunshine duration; ten minutes total |\n",
    "| `gre000z0` | Global radiation; ten minutes mean |\n",
    "| `ure200s0` | Relative air humidity 2 m above ground; current value |\n",
    "| `tde200s0` | Dew point 2 m above ground; current value |\n",
    "| `dkl010z0` | Wind direction; ten minutes mean |\n",
    "| `fu3010z0` | Wind speed; ten minutes mean in km/h |\n",
    "| `fu3010z1` | Gust peak (one second); maximum in km/h |\n",
    "| `prestas0` | Atmospheric pressure at barometric altitude (QFE<sup>1</sup>); current value |\n",
    "| `pp0qffs0` | Pressure reduced to sea level (QFF<sup>2</sup>); current value |\n",
    "| `pp0qnhs0` | Pressure reduced to sea level according to standard atmosphere (QNH<sup>3</sup>); current value |\n",
    "| `ppz850s0` | Geopotential height of the 850 hPA level; current value |\n",
    "| `ppz700s0` | Geopotential height of the 700 hPA level; current value |\n",
    "| `dv1towz0` | Wind direction vectorial tower<sup>4</sup>; ten minutes mean |\n",
    "| `fu3towz0` | Wind speed scalar tower<sup>4</sup>; ten minutes mean in km/h |\n",
    "| `u3towz1` | Gust peak (one second) tower<sup>4</sup>; maximum in km/h |\n",
    "| `ta1tows0` | Air temperature tower<sup>4</sup>; current value |\n",
    "| `uretows0` | Relative air humidity tower<sup>4</sup>; current value |\n",
    "| `tdetows0` | Dew point tower<sup>4</sup>; current value |\n",
    "\n",
    "<sup>1</sup> QFE = the isobaric surface pressure at the reference point\n",
    "\n",
    "<sup>2</sup> QFF = the air pressure at the measuring site, reduced to the sea level. It is used in the field of meteorology in order to ­compare the air pressures of different places at different heights.\n",
    "\n",
    "<sup>3</sup> QNH = the air pressure at the measuring station, reduced to sea level acc. to \"standard atmosphere\".\n",
    "\n",
    "<sup>4</sup> Information about the [automatic tower stations](/a-data-groundbased/a3-automatic-tower-stations) dataset/collection.\n"
   ]
  },
  {
   "cell_type": "code",
   "execution_count": null,
   "metadata": {},
   "outputs": [],
   "source": [
    "# Import necessary libraries\n",
    "import pandas as pd  # Data processing: https://pandas.pydata.org/docs/\n",
    "import matplotlib.pyplot as plt  # Visualization: https://matplotlib.org/stable/contents.html\n",
    "import seaborn as sns  # Also used for visualization: https://seaborn.pydata.org/\n",
    "import pandas as pd\n",
    "import requests\n",
    "import io\n",
    "import urllib3\n",
    "urllib3.disable_warnings(urllib3.exceptions.InsecureRequestWarning)\n",
    "\n",
    "\n",
    "#URL to get meteoswiss data\n",
    "url_data = \"https://data.geo.admin.ch/ch.meteoschweiz.ogd-smn/tae/ogd-smn_tae_t_now.csv\"\n",
    "\n",
    "def download_csv(url):\n",
    "    \"\"\"\n",
    "    Downloads a CSV file from a given URL (skipping SSL verification)\n",
    "    and returns a Pandas DataFrame.\n",
    "    \"\"\"\n",
    "    try:\n",
    "        response = requests.get(url, verify=False, timeout=30)  # verify=False skips SSL checks\n",
    "        response.raise_for_status()  # raise exception if status not 200\n",
    "        df = pd.read_csv(io.BytesIO(response.content), delimiter=';')\n",
    "        return df\n",
    "    except Exception as e:\n",
    "        print(f\"Error downloading {url}: {e}\")\n",
    "        return None"
   ]
  },
  {
   "cell_type": "code",
   "execution_count": null,
   "metadata": {},
   "outputs": [],
   "source": []
  },
  {
   "cell_type": "code",
   "execution_count": null,
   "metadata": {},
   "outputs": [],
   "source": [
    "def build_param_map(df_metadata: pd.DataFrame) -> dict:\n",
    "    # Keep only the 1st and 5th columns by position\n",
    "    sub = df_metadata.iloc[:, [0, 4]].dropna()\n",
    "    sub.columns = [\"parameter\", \"parameter_description_en\"]\n",
    "    mapping =  dict(zip(sub[\"parameter\"].str.strip(), sub[\"parameter_description_en\"].str.strip()))\n",
    "    return mapping\n",
    "\n",
    "df_metadata = pd.read_csv('ogd-smn_meta_parameters.csv', sep=\";\", encoding=\"latin1\", dtype=str)\n",
    "mapping = build_param_map(df_metadata)\n",
    "mapping\n",
    "\n"
   ]
  },
  {
   "cell_type": "code",
   "execution_count": null,
   "metadata": {},
   "outputs": [],
   "source": [
    "import re\n",
    "\n",
    "df_data = download_csv(url_data)\n",
    "\n",
    "mapping = {c: mapping[c] for c in df_data.columns if c in mapping}\n",
    "\n",
    "\n",
    "def clean_name(s: str) -> str:\n",
    "    # keep only before first ';'\n",
    "    s = s.split(\";\")[0]\n",
    "    # lowercase\n",
    "    s = s.lower()\n",
    "    # replace non-alphanumeric with underscores\n",
    "    s = re.sub(r'[^0-9a-zA-Z]+', '_', s)\n",
    "    # strip leading/trailing underscores\n",
    "    return s.strip(\"_\")\n",
    "\n",
    "# apply to your mapping\n",
    "mapping = {k: clean_name(v) for k, v in mapping.items()}\n",
    "mapping\n"
   ]
  },
  {
   "cell_type": "code",
   "execution_count": null,
   "metadata": {},
   "outputs": [],
   "source": [
    "data_final = df_data.rename(columns=mapping)\n",
    "data_final"
   ]
  }
 ],
 "metadata": {
  "kernelspec": {
   "display_name": "Python 3",
   "language": "python",
   "name": "python3"
  },
  "language_info": {
   "codemirror_mode": {
    "name": "ipython",
    "version": 3
   },
   "file_extension": ".py",
   "mimetype": "text/x-python",
   "name": "python",
   "nbconvert_exporter": "python",
   "pygments_lexer": "ipython3",
   "version": "3.11.4"
  }
 },
 "nbformat": 4,
 "nbformat_minor": 2
}
